{
 "cells": [
  {
   "cell_type": "code",
   "execution_count": 4,
   "metadata": {},
   "outputs": [],
   "source": [
    "#! pip install python-docx"
   ]
  },
  {
   "cell_type": "code",
   "execution_count": 22,
   "metadata": {},
   "outputs": [],
   "source": [
    "#! pip install docx2python"
   ]
  },
  {
   "cell_type": "code",
   "execution_count": 5,
   "metadata": {},
   "outputs": [],
   "source": [
    "import docx\n",
    "\n",
    "doc = docx.Document(\"C:/Users/Opim Salim Sitompul/Introduction to MD5 Algorithm.docx\")"
   ]
  },
  {
   "cell_type": "markdown",
   "metadata": {},
   "source": [
    "Access all the paragraphs in the document via the paragraphs attribute. \n",
    "- An empty line is also read as a paragraph by the Document."
   ]
  },
  {
   "cell_type": "code",
   "execution_count": 6,
   "metadata": {},
   "outputs": [
    {
     "data": {
      "text/plain": [
       "7"
      ]
     },
     "execution_count": 6,
     "metadata": {},
     "output_type": "execute_result"
    }
   ],
   "source": [
    "all_parag = doc.paragraphs\n",
    "len(all_parag)"
   ]
  },
  {
   "cell_type": "code",
   "execution_count": 7,
   "metadata": {},
   "outputs": [
    {
     "name": "stdout",
     "output_type": "stream",
     "text": [
      "Introduction to MD5 Algorithm\n",
      "-------\n",
      "MD5 message digest algorithm is the 5th version of the Message Digest Algorithm developed by Ron Rivest to produce 128 bit message digest. MD5 is quite fast than other versions of message digest which takes the plain text of 512 bit blocks which is further divided into 16 blocks, each of 32 bit and produces the 128 bit message digest which is a set of four blocks, each of 32 bits. MD5 produces the message digest through five steps i.e.  padding, append length, divide input into 512 bit blocks, initialize chaining variables a process blocks and 4 rounds, uses different constant it in each iteration.\n",
      "-------\n",
      "Use of MD5 Algorithm\n",
      "-------\n",
      "It was developed with the main motive of security as it takes an input of any size and produces an output if a 128-bit hash value. To be considered cryptographically secure MD5 should meet two requirements:\n",
      "-------\n",
      "It is impossible to generate two inputs that cannot produce the same hash function.\n",
      "-------\n",
      "It is impossible to generate a message having the same hash value.\n",
      "-------\n",
      "Initially, MD5 was developed to store one way hash of a password and some file servers also provide pre-computed MD5 checksum of a file so that the user can compare the checksum of the downloaded file to it. Most Unix based Operating Systems include MD5 checksum utilities in their distribution packages.\n",
      "-------\n"
     ]
    }
   ],
   "source": [
    "for para in all_parag:\n",
    "    print(para.text)\n",
    "    print(\"-------\")"
   ]
  },
  {
   "cell_type": "code",
   "execution_count": 8,
   "metadata": {},
   "outputs": [
    {
     "name": "stdout",
     "output_type": "stream",
     "text": [
      "It is impossible to generate two inputs that cannot produce the same hash function.\n"
     ]
    }
   ],
   "source": [
    "single_para = doc.paragraphs[4]\n",
    "print(single_para.text)"
   ]
  },
  {
   "cell_type": "markdown",
   "metadata": {},
   "source": [
    "Reading Runs\n",
    "- A run in a word document is a continuous sequence of words having similar properties, such as similar font sizes, font shapes, and font styles. "
   ]
  },
  {
   "cell_type": "code",
   "execution_count": 10,
   "metadata": {},
   "outputs": [
    {
     "name": "stdout",
     "output_type": "stream",
     "text": [
      "Introduction to MD5 Algorithm\n",
      "MD5 message digest algorithm is the 5th version of the Message Digest Algorithm developed by Ron Rivest to produce \n",
      "128 bit\n",
      " message digest. MD5 is quite fast than other versions of message digest which takes the plain text of \n",
      "512 bit\n",
      " blocks which is further divided into 16 blocks, each of 32 bit and produces the 128 bit message digest which is a set of four blocks, each of 32 bits. MD5 produces the message digest through five steps i.e.  padding, append length, divide input into \n",
      "512 bit\n",
      " blocks, initialize chaining variables a process blocks and 4 rounds, uses different constant it in each iteration.\n",
      "Use of MD5 Algorithm\n",
      "It was developed with the main motive of security as it takes an input of any size and produces an output if a 128-bit hash value. To be considered cryptographically secure MD5 should meet two requirements:\n",
      "It is impossible to generate two inputs that cannot produce the same hash function.\n",
      "It is impossible to generate a message having the same hash value.\n",
      "Initially, MD5 was developed to store one way hash of a password and some file servers also provide pre-computed MD5 checksum of a file so that the user can compare the checksum of the downloaded file to it. Most Unix based Operating Systems include MD5 checksum utilities in their distribution packages.\n"
     ]
    }
   ],
   "source": [
    "for parag in all_parag:\n",
    "    for run in parag.runs:\n",
    "        print(run.text)"
   ]
  },
  {
   "cell_type": "markdown",
   "metadata": {},
   "source": [
    "Writing MS Word Files with Python-Docx Module"
   ]
  },
  {
   "cell_type": "code",
   "execution_count": 11,
   "metadata": {},
   "outputs": [],
   "source": [
    "mydoc = docx.Document()"
   ]
  },
  {
   "cell_type": "code",
   "execution_count": 12,
   "metadata": {},
   "outputs": [],
   "source": [
    "mydoc.add_paragraph(\"It was developed with the main motive of security as it takes an input of any size and produces an output if a 128-bit hash value. To be considered cryptographically secure MD5 should meet two requirements:\")\n",
    "mydoc.save(\"C:/Users/Opim Salim Sitompul/Write.docx\")"
   ]
  },
  {
   "cell_type": "code",
   "execution_count": 13,
   "metadata": {},
   "outputs": [],
   "source": [
    "mydoc.add_paragraph(\"MD5 message digest algorithm is the 5th version of the Message Digest.\")\n",
    "mydoc.save(\"C:/Users/Opim Salim Sitompul/Write.docx\")"
   ]
  },
  {
   "cell_type": "code",
   "execution_count": 14,
   "metadata": {},
   "outputs": [],
   "source": [
    "third_para = mydoc.add_paragraph(\"Algorithm developed by Ron Rivest to produce 128 bit message digest.\")\n",
    "third_para.add_run(\" MD5 is quite fast than other versions of message digest\")\n",
    "mydoc.save(\"C:/Users/Opim Salim Sitompul/Write.docx\")"
   ]
  },
  {
   "cell_type": "markdown",
   "metadata": {},
   "source": [
    "Writing Headers"
   ]
  },
  {
   "cell_type": "code",
   "execution_count": 16,
   "metadata": {},
   "outputs": [],
   "source": [
    "mydoc.add_heading(\"Use of MD5 Algorithm\", 0)\n",
    "mydoc.save(\"C:/Users/Opim Salim Sitompul/Write.docx\")"
   ]
  },
  {
   "cell_type": "markdown",
   "metadata": {},
   "source": [
    "Adding Images"
   ]
  },
  {
   "cell_type": "code",
   "execution_count": 19,
   "metadata": {},
   "outputs": [],
   "source": [
    "mydoc.add_picture(\"C:/Users/Opim Salim Sitompul/fig1c.png\", width=docx.shared.Inches(3), height=docx.shared.Inches(3))\n",
    "mydoc.save(\"C:/Users/Opim Salim Sitompul/Write.docx\")"
   ]
  },
  {
   "cell_type": "code",
   "execution_count": 23,
   "metadata": {},
   "outputs": [],
   "source": [
    "from docx2python import docx2python"
   ]
  },
  {
   "cell_type": "code",
   "execution_count": 24,
   "metadata": {},
   "outputs": [],
   "source": [
    "doc_result = docx2python('C:/Users/Opim Salim Sitompul/test_table.docx')"
   ]
  },
  {
   "cell_type": "code",
   "execution_count": 25,
   "metadata": {},
   "outputs": [
    {
     "data": {
      "text/plain": [
       "[[[['Nama Pasien   : Nonymous'],\n",
       "   ['Tanggal                  : 22 NOVEMBER 2016']],\n",
       "  [['Umur                : 37 TAHUN'], ['Dokter Pengirim  : Anonymous']],\n",
       "  [['Kelamin            : PRIA'], ['                                  ']],\n",
       "  [['Ruangan           : POLIKLINIK'], ['']]],\n",
       " [[['', 'HASIL PEMERIKSAAN HAEMATOLOGY']]],\n",
       " [[['PEMERIKSAAN'], ['HASIL'], ['SATUAN'], ['NILAI NORMAL']],\n",
       "  [['DARAH LENGKAP ( FBC )'], [''], [''], ['']],\n",
       "  [['Haemoglobin'], ['\\t\\t15,8'], ['g/dl'], ['P=13,0 –18,0 W=12,0 – 16,0']],\n",
       "  [['Leukosit'], ['\\t\\t11,5'], ['109/L'], ['3,2 – 10,0']],\n",
       "  [['Laju Endap Darah'], ['15'], ['mm/1 jam'], ['P = 0 – 15 W = 0 – 20']],\n",
       "  [['Jumlah Trombosit'], ['318'], ['109/L'], ['170 – 380']],\n",
       "  [['Hematokrit'], ['48,2'], ['%'], ['P=40,0 – 50,0 W=35,0 – 45,0']],\n",
       "  [['Eritrosit'], ['5,21'], ['1012/L'], ['P=4,4 – 5,6 W=3,8 – 5,0']],\n",
       "  [['MCV'], ['92,7'], ['Fl'], ['80,0 – 100,0']],\n",
       "  [['MCH'], ['\\t\\t30,3'], ['Pg'], ['28,0 – 34,0']],\n",
       "  [['MCHC'], ['32,7'], ['g/dl'], ['32,0 – 36,0']],\n",
       "  [['Hitung Jenis Leukosit'], [''], [''], ['']],\n",
       "  [['Eosinofil'], ['3'], ['%'], ['0 – 6,0']],\n",
       "  [['Basofil'], ['0'], ['%'], ['0 – 2,0']],\n",
       "  [['Neotrofil '], ['\\t\\t61'], ['%'], ['36,0 – 73,0']],\n",
       "  [['Limfosit'], ['30'], ['%'], ['15,0 – 45,0']],\n",
       "  [['Monosit'], ['6'], ['%'], ['0,0 – 10,0']]],\n",
       " [[['\\t                                                                            ',\n",
       "    '']]],\n",
       " [[[''], ['']],\n",
       "  [['PETUGAS LAB'], ['SALAM SEJAWAT']],\n",
       "  [[''], ['----media/image1.jpeg----']],\n",
       "  [['HENNY'], ['']]],\n",
       " [[['', '']]]]"
      ]
     },
     "execution_count": 25,
     "metadata": {},
     "output_type": "execute_result"
    }
   ],
   "source": [
    "# get separate components of the document\n",
    "doc_result.body"
   ]
  },
  {
   "cell_type": "code",
   "execution_count": 27,
   "metadata": {},
   "outputs": [
    {
     "data": {
      "text/plain": [
       "list"
      ]
     },
     "execution_count": 27,
     "metadata": {},
     "output_type": "execute_result"
    }
   ],
   "source": [
    "# get type\n",
    "type(doc_result.body)"
   ]
  },
  {
   "cell_type": "code",
   "execution_count": 28,
   "metadata": {},
   "outputs": [
    {
     "data": {
      "text/plain": [
       "[[['Nama Pasien   : Nonymous'],\n",
       "  ['Tanggal                  : 22 NOVEMBER 2016']],\n",
       " [['Umur                : 37 TAHUN'], ['Dokter Pengirim  : Anonymous']],\n",
       " [['Kelamin            : PRIA'], ['                                  ']],\n",
       " [['Ruangan           : POLIKLINIK'], ['']]]"
      ]
     },
     "execution_count": 28,
     "metadata": {},
     "output_type": "execute_result"
    }
   ],
   "source": [
    "doc_result.body[0]"
   ]
  },
  {
   "cell_type": "code",
   "execution_count": 29,
   "metadata": {},
   "outputs": [
    {
     "data": {
      "text/plain": [
       "[[['', 'HASIL PEMERIKSAAN HAEMATOLOGY']]]"
      ]
     },
     "execution_count": 29,
     "metadata": {},
     "output_type": "execute_result"
    }
   ],
   "source": [
    "doc_result.body[1]"
   ]
  },
  {
   "cell_type": "code",
   "execution_count": null,
   "metadata": {},
   "outputs": [],
   "source": []
  }
 ],
 "metadata": {
  "kernelspec": {
   "display_name": "Python 3",
   "language": "python",
   "name": "python3"
  },
  "language_info": {
   "codemirror_mode": {
    "name": "ipython",
    "version": 3
   },
   "file_extension": ".py",
   "mimetype": "text/x-python",
   "name": "python",
   "nbconvert_exporter": "python",
   "pygments_lexer": "ipython3",
   "version": "3.8.7"
  }
 },
 "nbformat": 4,
 "nbformat_minor": 4
}
