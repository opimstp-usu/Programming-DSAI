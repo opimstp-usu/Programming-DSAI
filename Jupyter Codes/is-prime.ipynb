{
 "cells": [
  {
   "cell_type": "markdown",
   "metadata": {},
   "source": [
    "# is_prime.py, determine if a number is prime or not"
   ]
  },
  {
   "cell_type": "code",
   "execution_count": 1,
   "metadata": {},
   "outputs": [],
   "source": [
    "\"\"\"\n",
    "Filename: isprime.py\n",
    "Determine if a number is prime or not\n",
    "\"\"\"\n",
    "def checkprime(x):\n",
    "    rem = 0\n",
    "    for i in range(2, int(x)):\n",
    "        if int(x) % i == 0:\n",
    "            rem = 1\n",
    "            break\n",
    "    return rem"
   ]
  },
  {
   "cell_type": "code",
   "execution_count": 3,
   "metadata": {},
   "outputs": [
    {
     "name": "stdout",
     "output_type": "stream",
     "text": [
      "Please give an integer: 777\n",
      "777 is not prime\n"
     ]
    }
   ],
   "source": [
    "def main():\n",
    "    x = input(\"Please give an integer: \")\n",
    "    if int(x) <= 1:\n",
    "        print(\"Smallest prime is 2.\")\n",
    "    else:\n",
    "        rem = checkprime(x)\n",
    "        if rem != 0:\n",
    "            print(\"{} is not prime\".format(x))\n",
    "        else:\n",
    "            print(\"{} is prime.\".format(x))\n",
    "\n",
    "\n",
    "if __name__ == '__main__':\n",
    "    main()"
   ]
  },
  {
   "cell_type": "code",
   "execution_count": null,
   "metadata": {},
   "outputs": [],
   "source": []
  }
 ],
 "metadata": {
  "kernelspec": {
   "display_name": "Python 3",
   "language": "python",
   "name": "python3"
  },
  "language_info": {
   "codemirror_mode": {
    "name": "ipython",
    "version": 3
   },
   "file_extension": ".py",
   "mimetype": "text/x-python",
   "name": "python",
   "nbconvert_exporter": "python",
   "pygments_lexer": "ipython3",
   "version": "3.7.4"
  }
 },
 "nbformat": 4,
 "nbformat_minor": 2
}
