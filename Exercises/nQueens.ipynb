{
 "cells": [
  {
   "cell_type": "code",
   "execution_count": 1,
   "metadata": {},
   "outputs": [],
   "source": [
    "import numpy as np\n",
    "import random"
   ]
  },
  {
   "cell_type": "code",
   "execution_count": 2,
   "metadata": {},
   "outputs": [],
   "source": [
    "maxPop = 10\n",
    "maxQ = 8\n",
    "generation = 0;"
   ]
  },
  {
   "cell_type": "code",
   "execution_count": 3,
   "metadata": {},
   "outputs": [],
   "source": [
    "def createPopulation():\n",
    "    population = [[0,0,0,0,0,0,0,0],[0,0,0,0,0,0,0,0],[0,0,0,0,0,0,0,0],[0,0,0,0,0,0,0,0], \n",
    "                  [0,0,0,0,0,0,0,0],[0,0,0,0,0,0,0,0],[0,0,0,0,0,0,0,0],[0,0,0,0,0,0,0,0],\n",
    "                  [0,0,0,0,0,0,0,0], [0,0,0,0,0,0,0,0]]\n",
    "    #random.seed(1)     #Prevent from randomly generated\n",
    "    for i in range(maxPop):\n",
    "        for j in range(maxQ):\n",
    "            population[i][j] = random.randint(1,8)\n",
    "    return population"
   ]
  },
  {
   "cell_type": "code",
   "execution_count": 4,
   "metadata": {},
   "outputs": [],
   "source": [
    "def createChromosome(population):\n",
    "    chromosome = []\n",
    "    for i in range(maxPop):\n",
    "        pop_str = ''.join(map(str, population[i]))\n",
    "        chromosome.insert(i, pop_str)\n",
    "    return chromosome"
   ]
  },
  {
   "cell_type": "code",
   "execution_count": 5,
   "metadata": {},
   "outputs": [],
   "source": [
    "def printInformation(obj, str):\n",
    "    print(str+':')\n",
    "    for i in range(maxPop):\n",
    "        if i < maxPop-1:\n",
    "            print(obj[i], end=', ')\n",
    "        else:\n",
    "            print(obj[i])\n",
    "    print()"
   ]
  },
  {
   "cell_type": "code",
   "execution_count": 6,
   "metadata": {},
   "outputs": [],
   "source": [
    "def printSolution(obj, str, loc):\n",
    "    print(str+':')\n",
    "    for i in range(maxPop):\n",
    "        if i < maxPop-1:\n",
    "            if i == loc:\n",
    "                print(\"<<{}>>\".format(obj[i]), end=', ')\n",
    "            else:\n",
    "                print(obj[i], end=', ')\n",
    "        else:\n",
    "            if i == loc:\n",
    "                print(\"<<{}>>\".format(obj[i]))\n",
    "            else:\n",
    "                print(obj[i])\n",
    "    print()"
   ]
  },
  {
   "cell_type": "code",
   "execution_count": 7,
   "metadata": {},
   "outputs": [],
   "source": [
    "def printChromosomeFitness(chromfit):\n",
    "    print(\"Chromosome fitness:\")\n",
    "    for i in range(maxPop):\n",
    "        (chrom, fit) = extractChromosomeFitness(chromfit[i])\n",
    "        print(\"{} Fitness: {}\".format(chrom, fit))"
   ]
  },
  {
   "cell_type": "code",
   "execution_count": 8,
   "metadata": {},
   "outputs": [],
   "source": [
    "def calculateNonAttQueen(chromosome, maxAttQ):\n",
    "    nonAttQ = [0,0,0,0,0,0,0,0,0,0]\n",
    "    \n",
    "    for pop in range(maxPop):\n",
    "        individual = chromosome[pop]\n",
    "        #print(individual)\n",
    "        i = 0\n",
    "        j = 1\n",
    "        AttCt = 0\n",
    "        for x1 in range(maxQ-1):    \n",
    "            q1 = int(individual[x1]) #row\n",
    "            #print(\"({},{})->\".format(q1,x1), end='')            \n",
    "            i = j\n",
    "            for x2 in range(i,maxQ):\n",
    "                q2 = int(individual[x2]) #row\n",
    "                #print(\"({},{})\".format(q2,x2), end='')\n",
    "                if(q1 == q2):\n",
    "                    AttCt = AttCt + 1\n",
    "                if(abs(x2 - x1) == abs(q2 - q1)):\n",
    "                    AttCt = AttCt + 1\n",
    "            #print()\n",
    "            j = j + 1\n",
    "        nonAttQ[pop] = maxAttQ - AttCt\n",
    "    return (nonAttQ)"
   ]
  },
  {
   "cell_type": "code",
   "execution_count": 9,
   "metadata": {},
   "outputs": [],
   "source": [
    "def calculateFitness(nonAttQ):\n",
    "    fitness = [0.0,0.0,0.0,0.0,0.0,0.0,0.0,0.0,0.0,0.0]\n",
    "    totNonAttQ = 0\n",
    "    for pop in range(maxPop):\n",
    "        totNonAttQ = totNonAttQ + nonAttQ[pop]    \n",
    "\n",
    "    for pop in range(maxPop):\n",
    "        fitness[pop] = round((nonAttQ[pop]/totNonAttQ)*100, 2)\n",
    "    return (fitness)"
   ]
  },
  {
   "cell_type": "code",
   "execution_count": 10,
   "metadata": {},
   "outputs": [],
   "source": [
    "def extractChromosomeFitness(chromf):\n",
    "    chrs = chromf[0:8]\n",
    "    fits = chromf[9:14]\n",
    "    return (chrs, fits)"
   ]
  },
  {
   "cell_type": "code",
   "execution_count": 11,
   "metadata": {},
   "outputs": [],
   "source": [
    "def mergePopulationFitness(chromosome, fitness):\n",
    "    chromfit = [\"\",\"\",\"\",\"\",\"\",\"\",\"\",\"\",\"\",\"\"]\n",
    "    strfit = \"\"\n",
    "    i=0\n",
    "    for r in chromosome:\n",
    "        strfit = r + \",\"+''.join(str(fitness[i]))\n",
    "        chromfit[i] = strfit\n",
    "        i = i + 1 \n",
    "        strfit=\"\"\n",
    "    return (chromfit)"
   ]
  },
  {
   "cell_type": "code",
   "execution_count": 12,
   "metadata": {},
   "outputs": [],
   "source": [
    "def selectChromosomes(chromfit):\n",
    "    newchromosomes = []\n",
    "    ct = 0\n",
    "    fittest = 0.0\n",
    "    newchrom = \"\"\n",
    "    for i in range(maxPop):\n",
    "        (chrom, fit) = extractChromosomeFitness(chromfit[i])\n",
    "        if float(fit) > 8.0:\n",
    "            if float(fit) > fittest:\n",
    "                fittest = float(fit)\n",
    "                newchrom = chrom\n",
    "            newchromosomes.insert(ct, chrom)\n",
    "            ct = ct + 1\n",
    "    \n",
    "    for i in range(maxPop-ct):\n",
    "        newchromosomes.insert(i, newchrom)\n",
    "\n",
    "    return (newchromosomes)"
   ]
  },
  {
   "cell_type": "code",
   "execution_count": 13,
   "metadata": {},
   "outputs": [],
   "source": [
    "def getOnePointCrossOver():\n",
    "    num_mate = int(maxPop/2)\n",
    "    cr = [-9,-9,-9,-9,-9]\n",
    "    for i in range(num_mate):\n",
    "        cr[i] = random.randint(0,maxQ)\n",
    "    return(cr)"
   ]
  },
  {
   "cell_type": "code",
   "execution_count": 14,
   "metadata": {},
   "outputs": [],
   "source": [
    "def checkExist(m, mate_order):\n",
    "    exist = False\n",
    "    for i in range(maxPop):\n",
    "        the_member = mate_order[i]\n",
    "        if the_member != -9:\n",
    "            if m == the_member:\n",
    "                exist = True\n",
    "                break\n",
    "        else:\n",
    "            break\n",
    "    return exist"
   ]
  },
  {
   "cell_type": "code",
   "execution_count": 15,
   "metadata": {},
   "outputs": [],
   "source": [
    "def pickMate():\n",
    "    mate_order = np.array([-9,-9,-9,-9,-9,-9,-9,-9, -9, -9], dtype = int)\n",
    "    ct = 0\n",
    "    while ct < maxPop:\n",
    "        m = random.randint(0,maxPop-1)\n",
    "        exist = checkExist(m, mate_order)\n",
    "        if exist == False:\n",
    "            mate_order[ct] = m\n",
    "            ct = ct + 1\n",
    "    return (mate_order)"
   ]
  },
  {
   "cell_type": "code",
   "execution_count": 16,
   "metadata": {},
   "outputs": [],
   "source": [
    "def crossOver(cr, mate, chromosome):\n",
    "    k=0\n",
    "    newchromosomes = []\n",
    "    numOfMate = int(maxPop/2)\n",
    "    for j in range(numOfMate):\n",
    "        p1 = mate[k]\n",
    "        p2 = mate[k+1]\n",
    "        crp = cr[j]\n",
    "        parent1 = chromosome[p1]\n",
    "        parent2 = chromosome[p2]\n",
    "        substr1 = parent1[crp+1:maxQ]\n",
    "        substr2 = parent2[crp+1:maxQ]\n",
    "        newparent1 = parent1[0:crp+1] + substr2\n",
    "        newparent2 = parent2[0:crp+1] + substr1\n",
    "        newchromosomes.insert(k, newparent1)\n",
    "        newchromosomes.insert(k+1, newparent2)\n",
    "        k = k + 2\n",
    "    \n",
    "    return(newchromosomes)"
   ]
  },
  {
   "cell_type": "code",
   "execution_count": 17,
   "metadata": {},
   "outputs": [],
   "source": [
    "def mutation(chromosome):\n",
    "    mutated = []\n",
    "    selected = []\n",
    "    pm = int((maxPop * maxQ)*0.1)  #Calculate probability of mutation\n",
    "    for i in range(pm):\n",
    "        mut = random.randint(0,maxQ-1)  # choose which gen to mutate\n",
    "        sel = random.randint(0,maxPop-1)  # choose which chromosome to mutate\n",
    "        selected = chromosome[sel]\n",
    "        #print(\"Selected Chromosome {} before mutated at {}: \".format(sel+1, mut+1))\n",
    "        #print(selected)\n",
    "        newsel = list(selected)\n",
    "        newsel[mut] = str(random.randint(0, maxQ-1))\n",
    "        selected = \"\".join(newsel)\n",
    "        chromosome[sel] = selected\n",
    "        #print(\"New Chromosome {} after mutated at {}: \".format(sel+1, mut+1))\n",
    "        #print(chromosome)\n",
    "    \n",
    "    return (chromosome)"
   ]
  },
  {
   "cell_type": "code",
   "execution_count": 18,
   "metadata": {},
   "outputs": [
    {
     "name": "stdout",
     "output_type": "stream",
     "text": [
      "\"n-Queens Genetic Algorithm\"\n",
      "Initial chomosome:\n",
      "37766778, 65515545, 56358865, 52315578, 31863231, 66745715, 46617827, 81561342, 42823341, 36624663\n",
      "\n",
      "Optimal Non Attacking Queens: 28\n",
      "Solution Found!\n",
      "Optimal Solution found in 3354 generations\n",
      "Final chromosome:\n",
      "<<46152073>>, 54665067, 70752075, 06155501, 73355674, 64102562, 50010467, 46605624, 00551374, 43155570\n",
      "\n",
      "Optimal non attacking queen:\n",
      "<<28>>, 18, 22, 20, 17, 23, 21, 19, 24, 22\n",
      "\n",
      "Solution chromosome: 46152073\n"
     ]
    }
   ],
   "source": [
    "def main():\n",
    "    print('\"n-Queens Genetic Algorithm\"')\n",
    "    population = createPopulation()\n",
    "    chromosome = createChromosome(population)\n",
    "    printInformation(chromosome, \"Initial chomosome\")\n",
    "    maxNonAttQ = int((maxQ * (maxQ - 1))/2)\n",
    "    print(\"Optimal Non Attacking Queens: {}\".format(maxNonAttQ))\n",
    "    gen = 0\n",
    "    solution = 0\n",
    "    while (solution == 0) and (gen < 5000):\n",
    "        nonAttQ = calculateNonAttQueen(chromosome, maxNonAttQ)\n",
    "        for i in range(maxPop):\n",
    "            if nonAttQ[i] == maxNonAttQ:\n",
    "                solution = nonAttQ[i]\n",
    "                sol_chromosome = chromosome[i]\n",
    "                print(\"Solution Found!\")\n",
    "                solution = 1\n",
    "                loc = i\n",
    "                break\n",
    "        if solution == 0:\n",
    "            totNonAttQ = np.sum(nonAttQ)\n",
    "            fitness = calculateFitness(nonAttQ)\n",
    "            chromFitness = mergePopulationFitness(chromosome, fitness)\n",
    "            #printChromosomeFitness(chromFitness)\n",
    "            chromosome = selectChromosomes(chromFitness)\n",
    "            cr = getOnePointCrossOver()\n",
    "            mate = pickMate()\n",
    "            chromosome = crossOver(cr, mate, chromosome)\n",
    "            chromosome = mutation(chromosome)\n",
    "            gen = gen + 1\n",
    "        \n",
    "    if(solution == 1):\n",
    "        print(\"Optimal Solution found in {} generations\".format(gen))\n",
    "        printSolution(chromosome, \"Final chromosome\", loc)\n",
    "        printSolution(nonAttQ, \"Optimal non attacking queen\", loc)\n",
    "        print(\"Solution chromosome: {}\".format(sol_chromosome))\n",
    "    else:\n",
    "        print(\"No optimal solution found in {} generations...\".format(gen))\n",
    "        printInformation(nonAttQ, \"Non optimal solution found\")\n",
    " \n",
    "if __name__ == \"__main__\":\n",
    "    main()\n"
   ]
  },
  {
   "cell_type": "code",
   "execution_count": null,
   "metadata": {},
   "outputs": [],
   "source": []
  }
 ],
 "metadata": {
  "kernelspec": {
   "display_name": "Python 3",
   "language": "python",
   "name": "python3"
  },
  "language_info": {
   "codemirror_mode": {
    "name": "ipython",
    "version": 3
   },
   "file_extension": ".py",
   "mimetype": "text/x-python",
   "name": "python",
   "nbconvert_exporter": "python",
   "pygments_lexer": "ipython3",
   "version": "3.7.4"
  }
 },
 "nbformat": 4,
 "nbformat_minor": 2
}
