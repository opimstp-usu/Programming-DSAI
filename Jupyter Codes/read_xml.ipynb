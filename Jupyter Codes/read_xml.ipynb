{
 "cells": [
  {
   "cell_type": "code",
   "execution_count": 1,
   "metadata": {},
   "outputs": [],
   "source": [
    "import re"
   ]
  },
  {
   "cell_type": "code",
   "execution_count": 2,
   "metadata": {},
   "outputs": [],
   "source": [
    "def clean_words(text):\n",
    "\t#remove html markup\n",
    "\ttext = re.sub(\"(<.*?>)\",\"\",text)\n",
    "\t#remove whitespace\n",
    "\ttext = text.strip()\n",
    "\treturn text"
   ]
  },
  {
   "cell_type": "code",
   "execution_count": 3,
   "metadata": {},
   "outputs": [],
   "source": [
    "def read_file(filename):\n",
    "\txml_file = open(filename, 'r')\n",
    "\tout = []\n",
    "\twhile True:\n",
    "\t\t# Read next line\n",
    "\t\tline = xml_file.readline()\n",
    "\t\t# If line is blank, then you struck the EOF\n",
    "\t\tif not line :\n",
    "\t\t\tbreak;\n",
    "\t\tout.append(line.strip())\n",
    "\txml_file.close()    \n",
    "\treturn out"
   ]
  },
  {
   "cell_type": "code",
   "execution_count": 12,
   "metadata": {},
   "outputs": [],
   "source": [
    "def main():\n",
    "    path = 'd:/Opim/Programs/Python Notebook/'\n",
    "    filen = 'test.xml'\n",
    "    filename = path + filen\n",
    "    out = read_file(filename)\n",
    "    plain_out = []\n",
    "    for line in out:\n",
    "        text = clean_words(line)\n",
    "        if text:\n",
    "            plain_out.append(text.strip())\n",
    "    print(plain_out)"
   ]
  },
  {
   "cell_type": "code",
   "execution_count": 13,
   "metadata": {},
   "outputs": [
    {
     "name": "stdout",
     "output_type": "stream",
     "text": [
      "['Students', 'Lecturer', 'Reminder', \"Don't forget to fill attendance list!\"]\n"
     ]
    }
   ],
   "source": [
    "if __name__ == \"__main__\":\n",
    "\t\tmain()"
   ]
  },
  {
   "cell_type": "code",
   "execution_count": null,
   "metadata": {},
   "outputs": [],
   "source": []
  }
 ],
 "metadata": {
  "kernelspec": {
   "display_name": "Python 3",
   "language": "python",
   "name": "python3"
  },
  "language_info": {
   "codemirror_mode": {
    "name": "ipython",
    "version": 3
   },
   "file_extension": ".py",
   "mimetype": "text/x-python",
   "name": "python",
   "nbconvert_exporter": "python",
   "pygments_lexer": "ipython3",
   "version": "3.8.7"
  }
 },
 "nbformat": 4,
 "nbformat_minor": 4
}
