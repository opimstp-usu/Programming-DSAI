{
 "cells": [
  {
   "cell_type": "markdown",
   "metadata": {},
   "source": [
    "# Outline\n",
    "1 Semester Learning Plan\n",
    "2 Course Description and Objective\n",
    "3 Learning Outcomes\n",
    "4 Reference books\n",
    "5 Teaching and Learning Methods\n",
    "6 Weekly Course Planning\n",
    "7 Evaluation System\n",
    "8 Compiler/IDE\n",
    "9 Programming Assignment\n",
    "10 Academic Integrity"
   ]
  },
  {
   "cell_type": "markdown",
   "metadata": {},
   "source": [
    "# Semester Learning Plan\n",
    "Study Program: Masters in Data Science and Artificial Intelligence\n",
    "Course ID: DSC 5101\n",
    "Course Name: Computer Programming in Data Science and Artificial Intelligence\n",
    "Credits: 3\n",
    "Class: 150 minutes\n",
    "Lab activities: 150 minutes\n",
    "Face-to-face: 16 weeks\n",
    "Minimum attendance: 80%\n",
    "Lecturer: Prof. Dr. Opim Salim Sitompul, M.Sc.\n",
    "Prerequisite: None"
   ]
  },
  {
   "cell_type": "markdown",
   "metadata": {},
   "source": [
    "# Course Description and Objective\n",
    "This course is a laboratory course that provides students with the computer programming background required for success in data science and artificial intelligence.\n",
    "In this course, students will learn how to program data science and artificial intelligence related problems using Python programming language.\n",
    "Huge interest in the Python programming language is driven by several factors [1]:\n",
    "- its use in schools with the Raspberry Pi platform,\n",
    "- its ability to be used for DevOps scripts,\n",
    "- its use in data science and machine learning and the language itself"
   ]
  },
  {
   "cell_type": "markdown",
   "metadata": {},
   "source": [
    "# Learning Outcomes\n",
    "Upon successful completion of the course, students will be able to\n",
    "1 Prepare data for further analysis using data analytic tools\n",
    "2 Manipulate data sets programmatically\n",
    "3 Perform exploratory data analysis programmatically\n",
    "4 Apply basic text processing techniques to unstructured data sets\n",
    "5 Visualize data sets effectively\n",
    "6 Perform basic statistical analyses programmatically\n",
    "7 Build data-driven predictive models"
   ]
  },
  {
   "cell_type": "markdown",
   "metadata": {},
   "source": [
    "# Reference books\n",
    "A Beginners Guide to Python 3 Programming\n",
    "John Hunt\n",
    "Springer Nature Switzerland AG, Switzerland, 2019\n",
    "\n",
    "Advance Guide to Python 3 Programming\n",
    "John Hunt,\n",
    "Springer Nature Switzerland AG, Switzerland, 2019\n",
    "\n",
    "Python Data Science Handbook\n",
    "Jake VanderPlas\n",
    "O’Reilly, California, 2016\n",
    "\n",
    "Hands-On Machine Learning with Scikit-Learn $\n",
    "TensorFlow\n",
    "Aurelién Gerón\n",
    "Wiley, 2014"
   ]
  },
  {
   "cell_type": "markdown",
   "metadata": {},
   "source": [
    "# Other References\n",
    "Python tutorials available online\n",
    "Jupyter notebook tutorials available online\n",
    "Numpy tutorials available online\n",
    "Pandas tutorials available online\n",
    "Nltk tutorials available online\n",
    "Matplotlib tutorials available online\n",
    "Visdom tutorials available online\n",
    "Scikit-learn tutorials available online\n",
    "Pytorch tutorials available online"
   ]
  },
  {
   "cell_type": "markdown",
   "metadata": {},
   "source": [
    "# Teaching and Learning Methods\n",
    "1 Use of online tutorials: Students will make use of online tutorials for self-learning.\n",
    "2 Laboratory sessions: Students will be required to perform a series of exercises and submit a lab report.\n",
    "3 Homework: Several homework exercises requiring students to apply the knowledge acquired from lab and discussion will be assigned and graded.\n",
    "4 Individual Project Assignment: Each student is required to submit individual project report in completion of the assignment."
   ]
  },
  {
   "cell_type": "markdown",
   "metadata": {},
   "source": [
    "# Weekly Course Planning\n",
    "I Fundamentals\n",
    "1 Python programming Basics\n",
    "2 Using Function\n",
    "3 Using Class\n",
    "II Working with data\n",
    "4 Numerical computation using numpy\n",
    "5 Data manipulation using pandas\n",
    "6 Exploratory data analysis\n",
    "7 Text processing with nltk\n",
    "III Data visualization\n",
    "8 Matplotlib\n",
    "9 Pandas\n",
    "10 Visdom\n",
    "IV Statistics\n",
    "11 Random variables\n",
    "12 Probability distributions\n",
    "13 Hypothesis testing using scipy and statsmodels\n",
    "V Machine learning tools\n",
    "14 Scikit-learn\n",
    "15 Pytorch\n",
    "16 Keras"
   ]
  },
  {
   "cell_type": "markdown",
   "metadata": {},
   "source": [
    "# Evaluation System\n",
    "Table 1: Grading Components\n",
    "Programming Home Works 20%\n",
    "Mid Term Exam 20%\n",
    "Final Exams 20%\n",
    "Individual Project Assignment 30%\n",
    "Total: 100%"
   ]
  },
  {
   "cell_type": "markdown",
   "metadata": {},
   "source": [
    "# Grading System\n",
    "A \u0015 80\n",
    "75 \u0014 B+ < 80\n",
    "70 \u0014 B < 75\n",
    "65 \u0014 C+ < 70\n",
    "60 \u0014 C < 65\n",
    "50 \u0014 D < 60\n",
    "E < 50\n",
    "Notes:\n",
    "If grade obtained are in C+, C, D, and E categories,\n",
    "students must take Retest in the following semester."
   ]
  }
 ],
 "metadata": {
  "kernelspec": {
   "display_name": "Python 3",
   "language": "python",
   "name": "python3"
  },
  "language_info": {
   "codemirror_mode": {
    "name": "ipython",
    "version": 3
   },
   "file_extension": ".py",
   "mimetype": "text/x-python",
   "name": "python",
   "nbconvert_exporter": "python",
   "pygments_lexer": "ipython3",
   "version": "3.8.7"
  }
 },
 "nbformat": 4,
 "nbformat_minor": 4
}
