{
 "cells": [
  {
   "cell_type": "code",
   "execution_count": 7,
   "metadata": {},
   "outputs": [],
   "source": [
    "import numpy as np\n",
    "\n",
    "class MyNumpy:\n",
    "\n",
    "    def __init__(self):\n",
    "        self.myarr = np.random.randint(100, size=(3, 4, 5))\n",
    "\n",
    "    def print_myarr(self):\n",
    "        # Use a breakpoint in the code line below to debug your script.\n",
    "        for i in range(3):\n",
    "            for j in range(4):\n",
    "                for k in range(5):\n",
    "                    print(self.myarr[i,j,k], end=' ')  # Press Ctrl+F8 to toggle the breakpoint.\n",
    "                print()\n",
    "            print()\n",
    "        print()\n",
    "\n",
    "    def count_prime(self):\n",
    "        n = 0\n",
    "        for i in range(3):\n",
    "            for j in range(4):\n",
    "                for k in range(5):\n",
    "                    if (self.myarr[i,j,k] > 1):\n",
    "                        pr = self.check_prime(self.myarr[i,j,k])\n",
    "                        if pr == 0:\n",
    "                            print('<', self.myarr[i,j,k],'>', end=' ')\n",
    "                            n += 1\n",
    "        return n\n",
    "\n",
    "    def check_prime(self, x):\n",
    "        rem = 0\n",
    "        for i in range(2, x):\n",
    "            if x % i == 0:\n",
    "                rem = 1\n",
    "                break\n",
    "        return rem"
   ]
  },
  {
   "cell_type": "code",
   "execution_count": 9,
   "metadata": {},
   "outputs": [
    {
     "name": "stdout",
     "output_type": "stream",
     "text": [
      "64 19 41 92 75 \n",
      "84 70 47 4 83 \n",
      "70 5 45 39 86 \n",
      "80 86 93 72 63 \n",
      "\n",
      "19 49 10 50 58 \n",
      "52 75 11 51 49 \n",
      "14 92 93 21 18 \n",
      "34 39 33 73 57 \n",
      "\n",
      "12 49 22 8 76 \n",
      "16 44 22 98 96 \n",
      "92 48 96 75 73 \n",
      "74 66 59 43 59 \n",
      "\n",
      "\n",
      "< 19 > < 41 > < 47 > < 83 > < 5 > < 19 > < 11 > < 73 > < 73 > < 59 > < 43 > < 59 > \n",
      "There are  12  prime numbers generated.\n"
     ]
    }
   ],
   "source": [
    "def main():\n",
    "    mynum = MyNumpy()\n",
    "    mynum.print_myarr()\n",
    "    num_prime = mynum.count_prime()\n",
    "    print('\\nThere are ', num_prime, ' prime numbers generated.')\n",
    "\n",
    "if __name__ == '__main__':\n",
    "    main()"
   ]
  },
  {
   "cell_type": "code",
   "execution_count": null,
   "metadata": {},
   "outputs": [],
   "source": []
  }
 ],
 "metadata": {
  "kernelspec": {
   "display_name": "Python 3",
   "language": "python",
   "name": "python3"
  },
  "language_info": {
   "codemirror_mode": {
    "name": "ipython",
    "version": 3
   },
   "file_extension": ".py",
   "mimetype": "text/x-python",
   "name": "python",
   "nbconvert_exporter": "python",
   "pygments_lexer": "ipython3",
   "version": "3.8.7"
  }
 },
 "nbformat": 4,
 "nbformat_minor": 4
}
