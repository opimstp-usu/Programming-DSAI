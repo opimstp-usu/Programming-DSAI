{
 "cells": [
  {
   "cell_type": "code",
   "execution_count": 2,
   "metadata": {},
   "outputs": [],
   "source": [
    "import pandas as pd\n",
    "import numpy as np\n",
    "import matplotlib.pyplot as plt "
   ]
  },
  {
   "cell_type": "code",
   "execution_count": 3,
   "metadata": {},
   "outputs": [],
   "source": [
    "data = pd.read_csv(\"https://archive.ics.uci.edu/ml/machine-learning-databases/hepatitis/hepatitis.data\", header=None,\n",
    "                names=['Class', 'AGE', 'SEX', 'STEROID', 'ANTIVIRALS', 'FATIGUE', 'MALAISE', 'ANOREXIA', 'LIVER BIG', \n",
    "                       'LIVER FIRM', 'SPLEEN PALPABLE', 'SPIDERS', 'ASCITES', 'VARICES', 'BILIRUBIN', 'ALK PHOSPHATE',\n",
    "                       'SGOT', 'ALBUMIN', 'PROTIME', 'HISTOLOGY'])\n",
    "df = pd.DataFrame(data)"
   ]
  },
  {
   "cell_type": "code",
   "execution_count": 4,
   "metadata": {},
   "outputs": [
    {
     "data": {
      "text/html": [
       "<div>\n",
       "<style scoped>\n",
       "    .dataframe tbody tr th:only-of-type {\n",
       "        vertical-align: middle;\n",
       "    }\n",
       "\n",
       "    .dataframe tbody tr th {\n",
       "        vertical-align: top;\n",
       "    }\n",
       "\n",
       "    .dataframe thead th {\n",
       "        text-align: right;\n",
       "    }\n",
       "</style>\n",
       "<table border=\"1\" class=\"dataframe\">\n",
       "  <thead>\n",
       "    <tr style=\"text-align: right;\">\n",
       "      <th></th>\n",
       "      <th>Class</th>\n",
       "      <th>AGE</th>\n",
       "      <th>SEX</th>\n",
       "      <th>STEROID</th>\n",
       "      <th>ANTIVIRALS</th>\n",
       "      <th>FATIGUE</th>\n",
       "      <th>MALAISE</th>\n",
       "      <th>ANOREXIA</th>\n",
       "      <th>LIVER BIG</th>\n",
       "      <th>LIVER FIRM</th>\n",
       "      <th>SPLEEN PALPABLE</th>\n",
       "      <th>SPIDERS</th>\n",
       "      <th>ASCITES</th>\n",
       "      <th>VARICES</th>\n",
       "      <th>BILIRUBIN</th>\n",
       "      <th>ALK PHOSPHATE</th>\n",
       "      <th>SGOT</th>\n",
       "      <th>ALBUMIN</th>\n",
       "      <th>PROTIME</th>\n",
       "      <th>HISTOLOGY</th>\n",
       "    </tr>\n",
       "  </thead>\n",
       "  <tbody>\n",
       "    <tr>\n",
       "      <th>0</th>\n",
       "      <td>2</td>\n",
       "      <td>30</td>\n",
       "      <td>2</td>\n",
       "      <td>1</td>\n",
       "      <td>2</td>\n",
       "      <td>2</td>\n",
       "      <td>2</td>\n",
       "      <td>2</td>\n",
       "      <td>1</td>\n",
       "      <td>2</td>\n",
       "      <td>2</td>\n",
       "      <td>2</td>\n",
       "      <td>2</td>\n",
       "      <td>2</td>\n",
       "      <td>1.0</td>\n",
       "      <td>85</td>\n",
       "      <td>18</td>\n",
       "      <td>4.0</td>\n",
       "      <td>?</td>\n",
       "      <td>1</td>\n",
       "    </tr>\n",
       "    <tr>\n",
       "      <th>1</th>\n",
       "      <td>2</td>\n",
       "      <td>50</td>\n",
       "      <td>1</td>\n",
       "      <td>1</td>\n",
       "      <td>2</td>\n",
       "      <td>1</td>\n",
       "      <td>2</td>\n",
       "      <td>2</td>\n",
       "      <td>1</td>\n",
       "      <td>2</td>\n",
       "      <td>2</td>\n",
       "      <td>2</td>\n",
       "      <td>2</td>\n",
       "      <td>2</td>\n",
       "      <td>0.9</td>\n",
       "      <td>135</td>\n",
       "      <td>42</td>\n",
       "      <td>3.5</td>\n",
       "      <td>?</td>\n",
       "      <td>1</td>\n",
       "    </tr>\n",
       "    <tr>\n",
       "      <th>2</th>\n",
       "      <td>2</td>\n",
       "      <td>78</td>\n",
       "      <td>1</td>\n",
       "      <td>2</td>\n",
       "      <td>2</td>\n",
       "      <td>1</td>\n",
       "      <td>2</td>\n",
       "      <td>2</td>\n",
       "      <td>2</td>\n",
       "      <td>2</td>\n",
       "      <td>2</td>\n",
       "      <td>2</td>\n",
       "      <td>2</td>\n",
       "      <td>2</td>\n",
       "      <td>0.7</td>\n",
       "      <td>96</td>\n",
       "      <td>32</td>\n",
       "      <td>4.0</td>\n",
       "      <td>?</td>\n",
       "      <td>1</td>\n",
       "    </tr>\n",
       "    <tr>\n",
       "      <th>3</th>\n",
       "      <td>2</td>\n",
       "      <td>31</td>\n",
       "      <td>1</td>\n",
       "      <td>?</td>\n",
       "      <td>1</td>\n",
       "      <td>2</td>\n",
       "      <td>2</td>\n",
       "      <td>2</td>\n",
       "      <td>2</td>\n",
       "      <td>2</td>\n",
       "      <td>2</td>\n",
       "      <td>2</td>\n",
       "      <td>2</td>\n",
       "      <td>2</td>\n",
       "      <td>0.7</td>\n",
       "      <td>46</td>\n",
       "      <td>52</td>\n",
       "      <td>4.0</td>\n",
       "      <td>80</td>\n",
       "      <td>1</td>\n",
       "    </tr>\n",
       "    <tr>\n",
       "      <th>4</th>\n",
       "      <td>2</td>\n",
       "      <td>34</td>\n",
       "      <td>1</td>\n",
       "      <td>2</td>\n",
       "      <td>2</td>\n",
       "      <td>2</td>\n",
       "      <td>2</td>\n",
       "      <td>2</td>\n",
       "      <td>2</td>\n",
       "      <td>2</td>\n",
       "      <td>2</td>\n",
       "      <td>2</td>\n",
       "      <td>2</td>\n",
       "      <td>2</td>\n",
       "      <td>1.0</td>\n",
       "      <td>?</td>\n",
       "      <td>200</td>\n",
       "      <td>4.0</td>\n",
       "      <td>?</td>\n",
       "      <td>1</td>\n",
       "    </tr>\n",
       "  </tbody>\n",
       "</table>\n",
       "</div>"
      ],
      "text/plain": [
       "   Class  AGE  SEX STEROID  ANTIVIRALS FATIGUE MALAISE ANOREXIA LIVER BIG  \\\n",
       "0      2   30    2       1           2       2       2        2         1   \n",
       "1      2   50    1       1           2       1       2        2         1   \n",
       "2      2   78    1       2           2       1       2        2         2   \n",
       "3      2   31    1       ?           1       2       2        2         2   \n",
       "4      2   34    1       2           2       2       2        2         2   \n",
       "\n",
       "  LIVER FIRM SPLEEN PALPABLE SPIDERS ASCITES VARICES BILIRUBIN ALK PHOSPHATE  \\\n",
       "0          2               2       2       2       2       1.0            85   \n",
       "1          2               2       2       2       2       0.9           135   \n",
       "2          2               2       2       2       2       0.7            96   \n",
       "3          2               2       2       2       2       0.7            46   \n",
       "4          2               2       2       2       2       1.0             ?   \n",
       "\n",
       "  SGOT ALBUMIN PROTIME  HISTOLOGY  \n",
       "0   18     4.0       ?          1  \n",
       "1   42     3.5       ?          1  \n",
       "2   32     4.0       ?          1  \n",
       "3   52     4.0      80          1  \n",
       "4  200     4.0       ?          1  "
      ]
     },
     "execution_count": 4,
     "metadata": {},
     "output_type": "execute_result"
    }
   ],
   "source": [
    "df.head()"
   ]
  },
  {
   "cell_type": "code",
   "execution_count": 9,
   "metadata": {},
   "outputs": [],
   "source": [
    "def replace_missing(df):\n",
    "    for i, j in df.iterrows():\n",
    "        ct = 0 \n",
    "        for col in j:\n",
    "            if(col == '?'):\n",
    "                df.iloc[i,ct] = np.nan\n",
    "            ct += 1\n",
    "    return df"
   ]
  },
  {
   "cell_type": "code",
   "execution_count": 10,
   "metadata": {},
   "outputs": [],
   "source": [
    "df_new = replace_missing(df)"
   ]
  },
  {
   "cell_type": "code",
   "execution_count": 11,
   "metadata": {},
   "outputs": [
    {
     "name": "stdout",
     "output_type": "stream",
     "text": [
      "7\n",
      "78\n",
      "155\n"
     ]
    }
   ],
   "source": [
    "print(df['AGE'].min())\n",
    "print(df['AGE'].max())\n",
    "print(df['AGE'].count())"
   ]
  },
  {
   "cell_type": "markdown",
   "metadata": {},
   "source": [
    "Count values in each columns"
   ]
  },
  {
   "cell_type": "code",
   "execution_count": 12,
   "metadata": {},
   "outputs": [
    {
     "data": {
      "text/plain": [
       "Class              155\n",
       "AGE                155\n",
       "SEX                155\n",
       "STEROID            154\n",
       "ANTIVIRALS         155\n",
       "FATIGUE            154\n",
       "MALAISE            154\n",
       "ANOREXIA           154\n",
       "LIVER BIG          145\n",
       "LIVER FIRM         144\n",
       "SPLEEN PALPABLE    150\n",
       "SPIDERS            150\n",
       "ASCITES            150\n",
       "VARICES            150\n",
       "BILIRUBIN          149\n",
       "ALK PHOSPHATE      126\n",
       "SGOT               151\n",
       "ALBUMIN            139\n",
       "PROTIME             88\n",
       "HISTOLOGY          155\n",
       "dtype: int64"
      ]
     },
     "execution_count": 12,
     "metadata": {},
     "output_type": "execute_result"
    }
   ],
   "source": [
    "df.count(0)"
   ]
  },
  {
   "cell_type": "markdown",
   "metadata": {},
   "source": [
    "Count values in each rows"
   ]
  },
  {
   "cell_type": "code",
   "execution_count": 13,
   "metadata": {},
   "outputs": [
    {
     "data": {
      "text/plain": [
       "0      19\n",
       "1      19\n",
       "2      19\n",
       "3      19\n",
       "4      18\n",
       "       ..\n",
       "150    19\n",
       "151    19\n",
       "152    19\n",
       "153    20\n",
       "154    20\n",
       "Length: 155, dtype: int64"
      ]
     },
     "execution_count": 13,
     "metadata": {},
     "output_type": "execute_result"
    }
   ],
   "source": [
    "df.count(1)"
   ]
  },
  {
   "cell_type": "markdown",
   "metadata": {},
   "source": [
    "Create dictionary of Age data"
   ]
  },
  {
   "cell_type": "code",
   "execution_count": 15,
   "metadata": {
    "scrolled": true
   },
   "outputs": [],
   "source": [
    "age_col = df['AGE']\n",
    "age_data = {}\n",
    "for x in age_col:\n",
    "    age_data[x] = age_data.get(x, 0) + 1"
   ]
  },
  {
   "cell_type": "markdown",
   "metadata": {},
   "source": [
    "Get age and each frequency into arrays"
   ]
  },
  {
   "cell_type": "code",
   "execution_count": 17,
   "metadata": {},
   "outputs": [
    {
     "data": {
      "text/plain": [
       "[30, 50, 78, 31, 34]"
      ]
     },
     "execution_count": 17,
     "metadata": {},
     "output_type": "execute_result"
    }
   ],
   "source": [
    "ages = []\n",
    "freq = []\n",
    "for i in age_data:\n",
    "    ages.append(i)\n",
    "    freq.append(age_data.get(i))\n",
    "ages[:5]"
   ]
  },
  {
   "cell_type": "code",
   "execution_count": 18,
   "metadata": {},
   "outputs": [
    {
     "data": {
      "text/plain": [
       "[8, 6, 1, 4, 8]"
      ]
     },
     "execution_count": 18,
     "metadata": {},
     "output_type": "execute_result"
    }
   ],
   "source": [
    "freq[:5]"
   ]
  },
  {
   "cell_type": "markdown",
   "metadata": {},
   "source": [
    "Plot Bar Graph"
   ]
  },
  {
   "cell_type": "code",
   "execution_count": 19,
   "metadata": {},
   "outputs": [
    {
     "data": {
      "image/png": "[encoded data removed]",
      "text/plain": [
       "<Figure size 432x288 with 1 Axes>"
      ]
     },
     "metadata": {
      "needs_background": "light"
     },
     "output_type": "display_data"
    }
   ],
   "source": [
    "x = ages\n",
    "y = freq\n",
    "plt.bar(x,y,align='center') # A bar chart\n",
    "plt.xlabel('Age (Years)')\n",
    "plt.ylabel('Number of Patients')\n",
    "for i in range(len(y)):\n",
    "    plt.hlines(y[i],0,x[i], color=\"red\", linestyle=':') # Here you are drawing the horizontal lines\n",
    "plt.show()"
   ]
  },
  {
   "cell_type": "code",
   "execution_count": 20,
   "metadata": {},
   "outputs": [
    {
     "data": {
      "text/plain": [
       "0    30\n",
       "1    50\n",
       "2    78\n",
       "3    31\n",
       "4    34\n",
       "5    34\n",
       "6    51\n",
       "7    23\n",
       "8    39\n",
       "9    30\n",
       "Name: AGE, dtype: int64"
      ]
     },
     "execution_count": 20,
     "metadata": {},
     "output_type": "execute_result"
    }
   ],
   "source": [
    "age_col = df['AGE']\n",
    "sex_col = df['SEX']\n",
    "age_col[:10]"
   ]
  },
  {
   "cell_type": "code",
   "execution_count": 21,
   "metadata": {},
   "outputs": [],
   "source": [
    "def count_elements(arr):\n",
    "    # initializing dict to store frequency of each element\n",
    "    elements_count = {}\n",
    "    # iterating over the elements for frequency\n",
    "    for element in arr:\n",
    "        # checking whether it is in the dict or not\n",
    "        if element in elements_count:\n",
    "          # incerementing the count by 1\n",
    "          elements_count[element] += 1\n",
    "        else:\n",
    "          # setting the count to 1\n",
    "          elements_count[element] = 1\n",
    "    # printing the elements frequencies\n",
    "    #for key, value in elements_count.items():\n",
    "    #    print(f\"{key}: {value}\")\n",
    "    return elements_count"
   ]
  },
  {
   "cell_type": "code",
   "execution_count": 22,
   "metadata": {},
   "outputs": [
    {
     "data": {
      "text/plain": [
       "{2: 16, 1: 139}"
      ]
     },
     "execution_count": 22,
     "metadata": {},
     "output_type": "execute_result"
    }
   ],
   "source": [
    "m_f_counts = count_elements(sex_col)\n",
    "m_f_counts"
   ]
  },
  {
   "cell_type": "code",
   "execution_count": 23,
   "metadata": {},
   "outputs": [
    {
     "name": "stdout",
     "output_type": "stream",
     "text": [
      "139 16\n"
     ]
    }
   ],
   "source": [
    "x = m_f_counts.get(1,0)\n",
    "y = m_f_counts.get(2,0)\n",
    "print(x,y)"
   ]
  },
  {
   "cell_type": "code",
   "execution_count": 24,
   "metadata": {},
   "outputs": [
    {
     "data": {
      "text/plain": [
       "[7, 20, 20, 20, 22]"
      ]
     },
     "execution_count": 24,
     "metadata": {},
     "output_type": "execute_result"
    }
   ],
   "source": [
    "sorted(age_col)[:5]"
   ]
  },
  {
   "cell_type": "code",
   "execution_count": 25,
   "metadata": {},
   "outputs": [
    {
     "data": {
      "image/png": "[encoded data removed]",
      "text/plain": [
       "<Figure size 720x576 with 1 Axes>"
      ]
     },
     "metadata": {
      "needs_background": "light"
     },
     "output_type": "display_data"
    }
   ],
   "source": [
    "# Creating histogram \n",
    "np_hist = age_col\n",
    "hist,bin_edges = np.histogram(np_hist)\n",
    "bin_edges = np.round(bin_edges,0)\n",
    "plt.figure(figsize=[10,8])\n",
    "plt.bar(bin_edges[:-1], hist, width = 5, color='#0504aa',alpha=0.7)\n",
    "plt.xlim(min(bin_edges), max(bin_edges)) \n",
    "plt.grid(axis='y', alpha=0.75) \n",
    "plt.xlabel('Age',fontsize=15) \n",
    "plt.ylabel('Frequency',fontsize=15) \n",
    "plt.xticks(fontsize=15) \n",
    "plt.yticks(fontsize=15) \n",
    "plt.ylabel('Frequency',fontsize=15) \n",
    "plt.title('Age Distribution Histogram',fontsize=15) \n",
    "plt.show()"
   ]
  },
  {
   "cell_type": "code",
   "execution_count": 26,
   "metadata": {},
   "outputs": [
    {
     "data": {
      "text/plain": [
       "array([ 1,  3, 21, 29, 37, 21, 24, 11,  6,  2], dtype=int64)"
      ]
     },
     "execution_count": 26,
     "metadata": {},
     "output_type": "execute_result"
    }
   ],
   "source": [
    "hist"
   ]
  },
  {
   "cell_type": "code",
   "execution_count": 27,
   "metadata": {},
   "outputs": [
    {
     "data": {
      "text/plain": [
       "array([ 7., 14., 21., 28., 35., 42., 50., 57., 64., 71., 78.])"
      ]
     },
     "execution_count": 27,
     "metadata": {},
     "output_type": "execute_result"
    }
   ],
   "source": [
    "bin_edges"
   ]
  },
  {
   "cell_type": "code",
   "execution_count": 28,
   "metadata": {},
   "outputs": [
    {
     "data": {
      "image/png": "[encoded data removed]",
      "text/plain": [
       "<Figure size 720x576 with 1 Axes>"
      ]
     },
     "metadata": {
      "needs_background": "light"
     },
     "output_type": "display_data"
    }
   ],
   "source": [
    "plt.figure(figsize=[10,8]) \n",
    "n, bins, patches = plt.hist(x=np_hist, bins=8, color='#0504aa',alpha=0.7, rwidth=0.85) \n",
    "plt.grid(axis='y', alpha=0.75) \n",
    "plt.xlabel('Age',fontsize=15)\n",
    "plt.ylabel('Frequency',fontsize=15) \n",
    "plt.xticks(fontsize=15) \n",
    "plt.yticks(fontsize=15) \n",
    "plt.ylabel('Frequency',fontsize=15) \n",
    "plt.title('Age Distribution Histogram',fontsize=15) \n",
    "plt.show()"
   ]
  },
  {
   "cell_type": "code",
   "execution_count": 22,
   "metadata": {},
   "outputs": [
    {
     "data": {
      "text/plain": [
       "array([ 1., 11., 32., 47., 33., 18., 10.,  3.])"
      ]
     },
     "execution_count": 22,
     "metadata": {},
     "output_type": "execute_result"
    }
   ],
   "source": [
    "n"
   ]
  },
  {
   "cell_type": "code",
   "execution_count": 23,
   "metadata": {},
   "outputs": [
    {
     "data": {
      "text/plain": [
       "array([ 7.   , 15.875, 24.75 , 33.625, 42.5  , 51.375, 60.25 , 69.125,\n",
       "       78.   ])"
      ]
     },
     "execution_count": 23,
     "metadata": {},
     "output_type": "execute_result"
    }
   ],
   "source": [
    "bins"
   ]
  },
  {
   "cell_type": "code",
   "execution_count": 24,
   "metadata": {},
   "outputs": [],
   "source": [
    "m_age = {}\n",
    "f_age = {}\n",
    "ct_m = 0\n",
    "ct_f = 0\n",
    "ct = 0\n",
    "\n",
    "for x in age_col:\n",
    "    sex = sex_col.get(x, 0)      \n",
    "    if sex == 1: \n",
    "        m_age[ct_m] = age_col.get(x, 0)\n",
    "        ct_m += 1\n",
    "    else:\n",
    "        f_age[ct_f] = age_col.get(x, 0)\n",
    "        ct_f += 1\n",
    "    ct += 1"
   ]
  },
  {
   "cell_type": "code",
   "execution_count": 33,
   "metadata": {},
   "outputs": [
    {
     "data": {
      "text/plain": [
       "{0: 39,\n",
       " 1: 39,\n",
       " 2: 34,\n",
       " 3: 62,\n",
       " 4: 35,\n",
       " 5: 35,\n",
       " 6: 39,\n",
       " 7: 42,\n",
       " 8: 65,\n",
       " 9: 39,\n",
       " 10: 65,\n",
       " 11: 23,\n",
       " 12: 39,\n",
       " 13: 42,\n",
       " 14: 56,\n",
       " 15: 52,\n",
       " 16: 42,\n",
       " 17: 42,\n",
       " 18: 31,\n",
       " 19: 62,\n",
       " 20: 33,\n",
       " 21: 27,\n",
       " 22: 38,\n",
       " 23: 64,\n",
       " 24: 32,\n",
       " 25: 39,\n",
       " 26: 65,\n",
       " 27: 32,\n",
       " 28: 23,\n",
       " 29: 49,\n",
       " 30: 37,\n",
       " 31: 42,\n",
       " 32: 33,\n",
       " 33: 27,\n",
       " 34: 44,\n",
       " 35: 42,\n",
       " 36: 34,\n",
       " 37: 35,\n",
       " 38: 61,\n",
       " 39: 61,\n",
       " 40: 23,\n",
       " 41: 42,\n",
       " 42: 65,\n",
       " 43: 65,\n",
       " 44: 34,\n",
       " 45: 52,\n",
       " 46: 39,\n",
       " 47: 35,\n",
       " 48: 39,\n",
       " 49: 49,\n",
       " 50: 28,\n",
       " 51: 23,\n",
       " 52: 38,\n",
       " 53: 34,\n",
       " 54: 30,\n",
       " 55: 65,\n",
       " 56: 34,\n",
       " 57: 35,\n",
       " 58: 39,\n",
       " 59: 23,\n",
       " 60: 39,\n",
       " 61: 64,\n",
       " 62: 35,\n",
       " 63: 35,\n",
       " 64: 61,\n",
       " 65: 42,\n",
       " 66: 23,\n",
       " 67: 39,\n",
       " 68: 57,\n",
       " 69: 32,\n",
       " 70: 61,\n",
       " 71: 34,\n",
       " 72: 39,\n",
       " 73: 42,\n",
       " 74: 42,\n",
       " 75: 39,\n",
       " 76: 33,\n",
       " 77: 44,\n",
       " 78: 52,\n",
       " 79: 39,\n",
       " 80: 34,\n",
       " 81: 37,\n",
       " 82: 36,\n",
       " 83: 31,\n",
       " 84: 39,\n",
       " 85: 27,\n",
       " 86: 37,\n",
       " 87: 28,\n",
       " 88: 30,\n",
       " 89: 23,\n",
       " 90: 33,\n",
       " 91: 44,\n",
       " 92: 28,\n",
       " 93: 23,\n",
       " 94: 44,\n",
       " 95: 39,\n",
       " 96: 32,\n",
       " 97: 30,\n",
       " 98: 34,\n",
       " 99: 33,\n",
       " 100: 39,\n",
       " 101: 35,\n",
       " 102: 61,\n",
       " 103: 39,\n",
       " 104: 30,\n",
       " 105: 30,\n",
       " 106: 30,\n",
       " 107: 62,\n",
       " 108: 36,\n",
       " 109: 51,\n",
       " 110: 42,\n",
       " 111: 27,\n",
       " 112: 39,\n",
       " 113: 42,\n",
       " 114: 28,\n",
       " 115: 23,\n",
       " 116: 30,\n",
       " 117: 39,\n",
       " 118: 38,\n",
       " 119: 28,\n",
       " 120: 62,\n",
       " 121: 23,\n",
       " 122: 24,\n",
       " 123: 23,\n",
       " 124: 37,\n",
       " 125: 34,\n",
       " 126: 32,\n",
       " 127: 40,\n",
       " 128: 56}"
      ]
     },
     "execution_count": 33,
     "metadata": {},
     "output_type": "execute_result"
    }
   ],
   "source": [
    "m_age"
   ]
  },
  {
   "cell_type": "code",
   "execution_count": 25,
   "metadata": {},
   "outputs": [
    {
     "data": {
      "text/plain": [
       "[39, 39, 34, 62, 35]"
      ]
     },
     "execution_count": 25,
     "metadata": {},
     "output_type": "execute_result"
    }
   ],
   "source": [
    "m = []\n",
    "for x in range(len(m_age)):\n",
    "    m.append(m_age.get(x, 1))\n",
    "m[:5]"
   ]
  },
  {
   "cell_type": "code",
   "execution_count": 34,
   "metadata": {},
   "outputs": [
    {
     "data": {
      "text/plain": [
       "{0: 41,\n",
       " 1: 28,\n",
       " 2: 58,\n",
       " 3: 58,\n",
       " 4: 20,\n",
       " 5: 22,\n",
       " 6: 26,\n",
       " 7: 20,\n",
       " 8: 20,\n",
       " 9: 20,\n",
       " 10: 41,\n",
       " 11: 41,\n",
       " 12: 58,\n",
       " 13: 25,\n",
       " 14: 41,\n",
       " 15: 26,\n",
       " 16: 45,\n",
       " 17: 28,\n",
       " 18: 58,\n",
       " 19: 28,\n",
       " 20: 26,\n",
       " 21: 25,\n",
       " 22: 22,\n",
       " 23: 20,\n",
       " 24: 28,\n",
       " 25: 22}"
      ]
     },
     "execution_count": 34,
     "metadata": {},
     "output_type": "execute_result"
    }
   ],
   "source": [
    "f_age"
   ]
  },
  {
   "cell_type": "code",
   "execution_count": 26,
   "metadata": {},
   "outputs": [
    {
     "data": {
      "text/plain": [
       "[41, 28, 58, 58, 20]"
      ]
     },
     "execution_count": 26,
     "metadata": {},
     "output_type": "execute_result"
    }
   ],
   "source": [
    "f = []\n",
    "for x in range(len(f_age)):\n",
    "    f.append(f_age.get(x, 1))\n",
    "f[:5]"
   ]
  },
  {
   "cell_type": "code",
   "execution_count": 27,
   "metadata": {},
   "outputs": [
    {
     "data": {
      "image/png": "[encoded data removed]",
      "text/plain": [
       "<Figure size 720x576 with 1 Axes>"
      ]
     },
     "metadata": {
      "needs_background": "light"
     },
     "output_type": "display_data"
    }
   ],
   "source": [
    "plt.figure(figsize=[10,8]) \n",
    "n, bins, patches = plt.hist([m, f]) \n",
    "plt.grid(axis='y', alpha=0.75) \n",
    "plt.xlabel('Age',fontsize=15)\n",
    "plt.ylabel('Frequency',fontsize=15) \n",
    "plt.xticks(fontsize=15) \n",
    "plt.yticks(fontsize=15) \n",
    "plt.ylabel('Frequency',fontsize=15) \n",
    "#plt.label('$m = male', '$f = female')\n",
    "plt.title('Age Distribution Histogram',fontsize=15) \n",
    "labels= [\"male\",\"female\"]\n",
    "plt.legend(labels)\n",
    "plt.show()"
   ]
  },
  {
   "cell_type": "code",
   "execution_count": 28,
   "metadata": {},
   "outputs": [
    {
     "data": {
      "text/plain": [
       "[(11, 23), (28, 23), (40, 23), (51, 23), (59, 23)]"
      ]
     },
     "execution_count": 28,
     "metadata": {},
     "output_type": "execute_result"
    }
   ],
   "source": [
    "sort_m_age = sorted(m_age.items(), key=lambda x: x[1], reverse=False)\n",
    "sort_m_age[:5]"
   ]
  },
  {
   "cell_type": "code",
   "execution_count": 29,
   "metadata": {},
   "outputs": [
    {
     "data": {
      "text/plain": [
       "[(4, 20), (7, 20), (8, 20), (9, 20), (23, 20)]"
      ]
     },
     "execution_count": 29,
     "metadata": {},
     "output_type": "execute_result"
    }
   ],
   "source": [
    "sort_f_age = sorted(f_age.items(), key=lambda x: x[1], reverse=False)\n",
    "sort_f_age[:5]"
   ]
  },
  {
   "cell_type": "code",
   "execution_count": 30,
   "metadata": {},
   "outputs": [
    {
     "data": {
      "text/plain": [
       "array([[12.,  9., 19., 23., 36.,  4.,  3.,  3.,  3., 17.],\n",
       "       [ 8.,  9.,  0.,  0.,  4.,  1.,  0.,  0.,  4.,  0.]])"
      ]
     },
     "execution_count": 30,
     "metadata": {},
     "output_type": "execute_result"
    }
   ],
   "source": [
    "n"
   ]
  },
  {
   "cell_type": "code",
   "execution_count": 31,
   "metadata": {},
   "outputs": [
    {
     "data": {
      "text/plain": [
       "array([20. , 24.5, 29. , 33.5, 38. , 42.5, 47. , 51.5, 56. , 60.5, 65. ])"
      ]
     },
     "execution_count": 31,
     "metadata": {},
     "output_type": "execute_result"
    }
   ],
   "source": [
    "bins"
   ]
  },
  {
   "cell_type": "code",
   "execution_count": 32,
   "metadata": {},
   "outputs": [
    {
     "data": {
      "text/plain": [
       "<a list of 2 BarContainer objects>"
      ]
     },
     "execution_count": 32,
     "metadata": {},
     "output_type": "execute_result"
    }
   ],
   "source": [
    "patches"
   ]
  },
  {
   "cell_type": "code",
   "execution_count": null,
   "metadata": {},
   "outputs": [],
   "source": []
  }
 ],
 "metadata": {
  "kernelspec": {
   "display_name": "Python 3",
   "language": "python",
   "name": "python3"
  },
  "language_info": {
   "codemirror_mode": {
    "name": "ipython",
    "version": 3
   },
   "file_extension": ".py",
   "mimetype": "text/x-python",
   "name": "python",
   "nbconvert_exporter": "python",
   "pygments_lexer": "ipython3",
   "version": "3.8.7"
  }
 },
 "nbformat": 4,
 "nbformat_minor": 4
}
