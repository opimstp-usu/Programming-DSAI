{
 "cells": [
  {
   "cell_type": "code",
   "execution_count": 1,
   "metadata": {},
   "outputs": [],
   "source": [
    "import pandas as pd\n",
    "import numpy as np\n",
    "import matplotlib.pyplot as plt "
   ]
  },
  {
   "cell_type": "code",
   "execution_count": 2,
   "metadata": {},
   "outputs": [],
   "source": [
    "data = pd.read_csv(\"https://archive.ics.uci.edu/ml/machine-learning-databases/hepatitis/hepatitis.data\", header=None,\n",
    "                names=['Class', 'AGE', 'SEX', 'STEROID', 'ANTIVIRALS', 'FATIGUE', 'MALAISE', 'ANOREXIA', 'LIVER BIG', \n",
    "                       'LIVER FIRM', 'SPLEEN PALPABLE', 'SPIDERS', 'ASCITES', 'VARICES', 'BILIRUBIN', 'ALK PHOSPHATE',\n",
    "                       'SGOT', 'ALBUMIN', 'PROTIME', 'HISTOLOGY'])\n",
    "df = pd.DataFrame(data)"
   ]
  },
  {
   "cell_type": "code",
   "execution_count": 7,
   "metadata": {},
   "outputs": [
    {
     "name": "stdout",
     "output_type": "stream",
     "text": [
      "7\n",
      "78\n"
     ]
    }
   ],
   "source": [
    "print(df['AGE'].min())\n",
    "print(df['AGE'].max())"
   ]
  },
  {
   "cell_type": "markdown",
   "metadata": {},
   "source": [
    "A complete tally of age distribution"
   ]
  },
  {
   "cell_type": "code",
   "execution_count": 9,
   "metadata": {},
   "outputs": [
    {
     "data": {
      "text/plain": [
       "{30: 8,\n",
       " 50: 6,\n",
       " 78: 1,\n",
       " 31: 4,\n",
       " 34: 8,\n",
       " 51: 6,\n",
       " 23: 4,\n",
       " 39: 6,\n",
       " 32: 4,\n",
       " 41: 3,\n",
       " 47: 4,\n",
       " 38: 8,\n",
       " 66: 1,\n",
       " 40: 3,\n",
       " 22: 2,\n",
       " 27: 4,\n",
       " 42: 5,\n",
       " 25: 3,\n",
       " 49: 3,\n",
       " 58: 2,\n",
       " 61: 3,\n",
       " 62: 2,\n",
       " 26: 1,\n",
       " 35: 2,\n",
       " 37: 5,\n",
       " 20: 3,\n",
       " 65: 1,\n",
       " 52: 3,\n",
       " 33: 3,\n",
       " 56: 3,\n",
       " 28: 5,\n",
       " 36: 7,\n",
       " 44: 5,\n",
       " 64: 1,\n",
       " 45: 5,\n",
       " 57: 2,\n",
       " 24: 2,\n",
       " 67: 1,\n",
       " 59: 1,\n",
       " 60: 1,\n",
       " 48: 2,\n",
       " 54: 5,\n",
       " 7: 1,\n",
       " 69: 1,\n",
       " 72: 1,\n",
       " 70: 1,\n",
       " 46: 1,\n",
       " 53: 1,\n",
       " 43: 1}"
      ]
     },
     "execution_count": 9,
     "metadata": {},
     "output_type": "execute_result"
    }
   ],
   "source": [
    "age_col = df['AGE']\n",
    "age_data = {}\n",
    "for x in age_col:\n",
    "    age_data[x] = age_data.get(x, 0) + 1\n",
    "dict(list(age_data.items()))"
   ]
  },
  {
   "cell_type": "markdown",
   "metadata": {},
   "source": [
    "Summary Statistics: Means, variance and standard deviation"
   ]
  },
  {
   "cell_type": "code",
   "execution_count": 12,
   "metadata": {},
   "outputs": [],
   "source": [
    "ages = []\n",
    "freq = []\n",
    "for i in age_data:\n",
    "    ages.append(i)\n",
    "    freq.append(age_data.get(i))"
   ]
  },
  {
   "cell_type": "code",
   "execution_count": 15,
   "metadata": {},
   "outputs": [
    {
     "name": "stdout",
     "output_type": "stream",
     "text": [
      "45.224489795918366\n",
      "255.60266555601834\n",
      "15.987578476930718\n"
     ]
    }
   ],
   "source": [
    "print(np.array(ages).mean())\n",
    "print(np.array(ages).var())\n",
    "print(np.array(ages).std())"
   ]
  },
  {
   "cell_type": "markdown",
   "metadata": {},
   "source": [
    "Efect Size"
   ]
  },
  {
   "cell_type": "code",
   "execution_count": 16,
   "metadata": {},
   "outputs": [],
   "source": [
    "def get_dict_element(a_dict):\n",
    "    arr = []\n",
    "    for x in range(len(a_dict)):\n",
    "        arr.append(a_dict.get(x, 1))\n",
    "    return arr"
   ]
  },
  {
   "cell_type": "markdown",
   "metadata": {},
   "source": [
    "Separate male and female images"
   ]
  },
  {
   "cell_type": "code",
   "execution_count": 20,
   "metadata": {},
   "outputs": [],
   "source": [
    "m_age = {}\n",
    "f_age = {}\n",
    "ct_m = 0\n",
    "ct_f = 0\n",
    "ct = 0\n",
    "sex_col = df['SEX']\n",
    "for x in age_col:\n",
    "    sex = sex_col.get(x, 0)      \n",
    "    if sex == 1: \n",
    "        m_age[ct_m] = age_col.get(x, 0)\n",
    "        ct_m += 1\n",
    "    else:\n",
    "        f_age[ct_f] = age_col.get(x, 0)\n",
    "        ct_f += 1\n",
    "    ct += 1"
   ]
  },
  {
   "cell_type": "code",
   "execution_count": 24,
   "metadata": {},
   "outputs": [],
   "source": [
    "m = np.array(get_dict_element(m_age))\n",
    "f = np.array(get_dict_element(f_age))"
   ]
  },
  {
   "cell_type": "code",
   "execution_count": 25,
   "metadata": {},
   "outputs": [
    {
     "name": "stdout",
     "output_type": "stream",
     "text": [
      "[39 39 34 62 35]\n",
      "[41 28 58 58 20]\n"
     ]
    }
   ],
   "source": [
    "print(m[:5])\n",
    "print(f[:5])"
   ]
  },
  {
   "cell_type": "markdown",
   "metadata": {},
   "source": [
    "Calculate effect size"
   ]
  },
  {
   "cell_type": "code",
   "execution_count": 26,
   "metadata": {},
   "outputs": [],
   "source": [
    "import math\n",
    "def CohenEffectSize(group1, group2):\n",
    "    diff = group1.mean() - group2.mean()\n",
    "    var1 = group1.var()\n",
    "    var2 = group2.var()\n",
    "    n1, n2 = len(group1), len(group2)\n",
    "\n",
    "    pooled_var = (n1*var1 + n2*var2)/(n1+n2)\n",
    "    d = diff / math.sqrt(pooled_var)\n",
    "    return d"
   ]
  },
  {
   "cell_type": "code",
   "execution_count": 27,
   "metadata": {},
   "outputs": [],
   "source": [
    "d = CohenEffectSize(m, f)"
   ]
  },
  {
   "cell_type": "code",
   "execution_count": 28,
   "metadata": {},
   "outputs": [
    {
     "name": "stdout",
     "output_type": "stream",
     "text": [
      "0.5757033718956814\n"
     ]
    }
   ],
   "source": [
    "print(d)"
   ]
  },
  {
   "cell_type": "code",
   "execution_count": null,
   "metadata": {},
   "outputs": [],
   "source": []
  }
 ],
 "metadata": {
  "kernelspec": {
   "display_name": "Python 3",
   "language": "python",
   "name": "python3"
  },
  "language_info": {
   "codemirror_mode": {
    "name": "ipython",
    "version": 3
   },
   "file_extension": ".py",
   "mimetype": "text/x-python",
   "name": "python",
   "nbconvert_exporter": "python",
   "pygments_lexer": "ipython3",
   "version": "3.8.7"
  }
 },
 "nbformat": 4,
 "nbformat_minor": 4
}
