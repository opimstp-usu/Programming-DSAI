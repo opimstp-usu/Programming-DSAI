{
 "cells": [
  {
   "cell_type": "code",
   "execution_count": 3,
   "metadata": {},
   "outputs": [],
   "source": [
    "import numpy as np\n",
    "import pandas as pd"
   ]
  },
  {
   "cell_type": "code",
   "execution_count": 1,
   "metadata": {},
   "outputs": [],
   "source": [
    "def main():\n",
    "\tdata = pd.read_csv(\"C:/users/Opim Salim Sitompul/football.csv\")\n",
    "\tEPL_table = pd.DataFrame(np.array(data), columns=('year', 'team', 'wins', 'draws', 'losses', 'GF', 'GA'))\n",
    "\tEPL_table['GD'] = EPL_table['GF'] - EPL_table['GA']\n",
    "\twin = EPL_table.loc[:,\"wins\":\"losses\"]\n",
    "\tpoints = calculate_points(win)\n",
    "\tEPL_table['Points'] = np.array(points)\n",
    "\tprint(EPL_table)"
   ]
  },
  {
   "cell_type": "code",
   "execution_count": 2,
   "metadata": {},
   "outputs": [],
   "source": [
    "def calculate_points(EPL_table):\n",
    "\tpt_system = pd.DataFrame([3, 1, 0])\n",
    "\tpoints = pd.DataFrame(np.dot(EPL_table, pt_system))\n",
    "\treturn (points)"
   ]
  },
  {
   "cell_type": "code",
   "execution_count": 5,
   "metadata": {},
   "outputs": [
    {
     "name": "stdout",
     "output_type": "stream",
     "text": [
      "    year                 team wins draws losses   GF  GA  GD Points\n",
      "0   1993  'Manchester United'   24    12      6   67  31  36     84\n",
      "1   1994  'Manchester United'   27    11      4   80  38  42     92\n",
      "2   1995   'Blackburn Rovers'   27     8      7   80  39  41     89\n",
      "3   1996  'Manchester United'   25     7      6   73  35  38     82\n",
      "4   1997  'Manchester United'   21    12      5   76  44  32     75\n",
      "5   1998            'Arsenal'   23     9      6   68  33  35     78\n",
      "6   1999  'Manchester United'   22    13      3   80  37  43     79\n",
      "7   2000  'Manchester United'   28     7      3   97  45  52     91\n",
      "8   2001  'Manchester United'   24     8      6   79  31  48     80\n",
      "9   2002            'Arsenal'   26     9      3   79  36  43     87\n",
      "10  2003  'Manchester United'   25     8      5   74  34  40     83\n",
      "11  2004            'Arsenal'   26    12      0   73  26  47     90\n",
      "12  2005            'Chelsea'   29     8      1   72  15  57     95\n",
      "13  2006            'Chelsea'   29     4      5   72  22  50     91\n",
      "14  2007  'Manchester United'   28     5      5   83  27  56     89\n",
      "15  2008  'Manchester United'   27     6      5   80  22  58     87\n",
      "16  2009  'Manchester United'   28     6      4   68  24  44     90\n",
      "17  2010            'Chelsea'   27     5      6  103  32  71     86\n",
      "18  2011  'Manchester United'   23    11      4   78  37  41     80\n",
      "19  2012    'Manchester City'   28     5      5   93  29  64     89\n",
      "20  2013  'Manchester United'   28     5      5   86  43  43     89\n",
      "21  2014    'Manchester City'   27     5      6  102  37  65     86\n",
      "22  2015            'Chelsea'   26     9      3   73  32  41     87\n",
      "23  2016     'Leicester City'   23    12      3   68  36  32     81\n",
      "24  2017            'Chelsea'   30     3      5   85  33  52     93\n",
      "25  2018    'Manchester City'   32     4      2  105  27  78    100\n",
      "26  2019    'Manchester City'   32     2      4   95  23  72     98\n",
      "27  2020          'Liverpool'   32     3      3   85  33  52     99\n"
     ]
    }
   ],
   "source": [
    "if __name__ == \"__main__\":\n",
    "    main()"
   ]
  },
  {
   "cell_type": "code",
   "execution_count": null,
   "metadata": {},
   "outputs": [],
   "source": []
  }
 ],
 "metadata": {
  "kernelspec": {
   "display_name": "Python 3",
   "language": "python",
   "name": "python3"
  },
  "language_info": {
   "codemirror_mode": {
    "name": "ipython",
    "version": 3
   },
   "file_extension": ".py",
   "mimetype": "text/x-python",
   "name": "python",
   "nbconvert_exporter": "python",
   "pygments_lexer": "ipython3",
   "version": "3.8.7"
  }
 },
 "nbformat": 4,
 "nbformat_minor": 4
}
