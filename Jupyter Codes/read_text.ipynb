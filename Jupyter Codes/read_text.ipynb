{
 "cells": [
  {
   "cell_type": "code",
   "execution_count": 2,
   "metadata": {},
   "outputs": [],
   "source": [
    "import urllib.request\n",
    "import nltk"
   ]
  },
  {
   "cell_type": "code",
   "execution_count": 3,
   "metadata": {},
   "outputs": [],
   "source": [
    "with urllib.request.urlopen (\"http://www.gutenberg.org/files/2554/2554-0.txt\") as response:\n",
    "    src_text = response.read()"
   ]
  },
  {
   "cell_type": "code",
   "execution_count": 33,
   "metadata": {},
   "outputs": [
    {
     "data": {
      "text/plain": [
       "bytes"
      ]
     },
     "execution_count": 33,
     "metadata": {},
     "output_type": "execute_result"
    }
   ],
   "source": [
    "type(src_text)"
   ]
  },
  {
   "cell_type": "code",
   "execution_count": 4,
   "metadata": {},
   "outputs": [],
   "source": [
    "def no_punctuation(s, list_of_punct):\n",
    "    from nltk.tokenize import word_tokenize, sent_tokenize\n",
    "    tokens = [word for sent in sent_tokenize(s) for word in word_tokenize(sent)]\n",
    "    res = list(filter(lambda word: word not in list_of_punct, tokens))\n",
    "    return res"
   ]
  },
  {
   "cell_type": "code",
   "execution_count": 46,
   "metadata": {},
   "outputs": [
    {
     "name": "stdout",
     "output_type": "stream",
     "text": [
      "b'\\xef\\xbb\\xbfThe Project Gutenberg EBook of Crime and Punishment, by Fyodor Dostoevsk'\n"
     ]
    }
   ],
   "source": [
    "s = src_text[:75]\n",
    "s.decode(\"utf-8\")\n",
    "print(s)"
   ]
  },
  {
   "cell_type": "code",
   "execution_count": 42,
   "metadata": {},
   "outputs": [
    {
     "name": "stdout",
     "output_type": "stream",
     "text": [
      "<class 'str'> The Project Gutenberg EBook of Crime and Punishment, by Fyodor Dostoevsk\n"
     ]
    }
   ],
   "source": [
    "s = src_text[:75].decode(\"utf-8-sig\")\n",
    "print(type(s), s)"
   ]
  },
  {
   "cell_type": "code",
   "execution_count": 51,
   "metadata": {},
   "outputs": [
    {
     "data": {
      "text/plain": [
       "'\\ufeffThe Project Gutenberg EBook of Crime and Punishment, by Fyodor Dostoevsk'"
      ]
     },
     "execution_count": 51,
     "metadata": {},
     "output_type": "execute_result"
    }
   ],
   "source": [
    "s = src_text[:75].decode(\"utf-8\")\n",
    "s"
   ]
  },
  {
   "cell_type": "code",
   "execution_count": 67,
   "metadata": {},
   "outputs": [
    {
     "name": "stdout",
     "output_type": "stream",
     "text": [
      "The Project Gutenberg EBook of Crime and Punishment, by Fyodor Dostoevsk <class 'str'>\n"
     ]
    }
   ],
   "source": [
    "ss = src_text[:75].decode(\"utf-8-sig\")\n",
    "print(ss, type(ss))"
   ]
  },
  {
   "cell_type": "code",
   "execution_count": 69,
   "metadata": {},
   "outputs": [],
   "source": [
    "from nltk.corpus import stopwords \n",
    "from nltk.tokenize import word_tokenize, sent_tokenize \n",
    "\n",
    "def stopwords_token(sentence):\n",
    "\tstop_words = set(stopwords.words('english'))\n",
    "\ttokenized = sent_tokenize(sentence) \n",
    "\tfor i in tokenized:     \n",
    "\t\twordsList = nltk.word_tokenize(i) \n",
    "\t\t# removing stop words from wordList \n",
    "\t\twordsList = [w for w in wordsList if not w in stop_words]  \n",
    "\t\t#  Using POS-tagger.  \n",
    "\t\ttagged = nltk.pos_tag(wordsList) \n",
    "\treturn(tagged) "
   ]
  },
  {
   "cell_type": "code",
   "execution_count": 71,
   "metadata": {},
   "outputs": [
    {
     "data": {
      "text/plain": [
       "[('The', 'DT'),\n",
       " ('Project', 'NNP'),\n",
       " ('Gutenberg', 'NNP'),\n",
       " ('EBook', 'NNP'),\n",
       " ('Crime', 'NNP'),\n",
       " ('Punishment', 'NNP'),\n",
       " (',', ','),\n",
       " ('Fyodor', 'NNP'),\n",
       " ('Dostoevsk', 'NNP')]"
      ]
     },
     "execution_count": 71,
     "metadata": {},
     "output_type": "execute_result"
    }
   ],
   "source": [
    "sentence = stopwords_token(ss)\n",
    "sentence"
   ]
  },
  {
   "cell_type": "code",
   "execution_count": 65,
   "metadata": {},
   "outputs": [
    {
     "data": {
      "text/plain": [
       "['The',\n",
       " 'Project',\n",
       " 'Gutenberg',\n",
       " 'EBook',\n",
       " 'of',\n",
       " 'Crime',\n",
       " 'and',\n",
       " 'Punishment',\n",
       " 'by',\n",
       " 'Fyodor',\n",
       " 'Dostoevsk']"
      ]
     },
     "execution_count": 65,
     "metadata": {},
     "output_type": "execute_result"
    }
   ],
   "source": [
    "string = no_punctuation(pw_dec, ',')\n",
    "string"
   ]
  },
  {
   "cell_type": "code",
   "execution_count": 54,
   "metadata": {},
   "outputs": [
    {
     "data": {
      "text/plain": [
       "['The',\n",
       " 'Project',\n",
       " 'Gutenberg',\n",
       " 'EBook',\n",
       " 'of',\n",
       " 'Crime',\n",
       " 'and',\n",
       " 'Punishment',\n",
       " ',',\n",
       " 'by',\n",
       " 'Fyodor',\n",
       " 'Dostoevsk']"
      ]
     },
     "execution_count": 54,
     "metadata": {},
     "output_type": "execute_result"
    }
   ],
   "source": [
    "tokens"
   ]
  },
  {
   "cell_type": "code",
   "execution_count": 69,
   "metadata": {},
   "outputs": [],
   "source": [
    "source = src_text.decode(\"utf-8-sig\")\n",
    "#print(source)"
   ]
  },
  {
   "cell_type": "code",
   "execution_count": 97,
   "metadata": {},
   "outputs": [],
   "source": [
    "def keep_quoted(text):\n",
    "    text = text.replace(\"\\n\", ' ')\n",
    "    text = text.replace(\"\\t\", ' ')\n",
    "    text = text.replace(\"\\r\", ' ')\n",
    "    i = 0\n",
    "    strlen = len(text)\n",
    "    res_lst = []\n",
    "    while i < strlen:\n",
    "        txt = text[i]\n",
    "        res = \"\"\n",
    "        if txt == '“':\n",
    "            j = text.find('”', i+1) + 1\n",
    "            res = text[i:j]\n",
    "            res_lst.append(res)\n",
    "            i = j\n",
    "        i += 1\n",
    "    return res_lst"
   ]
  },
  {
   "cell_type": "code",
   "execution_count": 112,
   "metadata": {},
   "outputs": [],
   "source": [
    "def replace_last(source_string, replace_what, replace_with):\n",
    "    head, _sep, tail = source_string.rpartition(replace_what)\n",
    "    return head + replace_with + tail"
   ]
  },
  {
   "cell_type": "code",
   "execution_count": 113,
   "metadata": {},
   "outputs": [
    {
     "name": "stdout",
     "output_type": "stream",
     "text": [
      "“Poor Folk”\n",
      "“taking part in conversations against  the censorship, of reading a letter from Byelinsky to Gogol and of  knowing of the intention to set up a printing press”\n",
      "“stern and just man”\n",
      "“They snapped  words over our heads, and they made us put on the white shirts worn by  persons condemned to death. Thereupon we were bound in threes to stakes,  to suffer execution. Being the third in the row, I concluded I had only  a few minutes of life before me. I thought of you and your dear ones and  I contrived to kiss Plestcheiev and Dourov, who were next to me, and to  bid them farewell. Suddenly the troops beat a tattoo, we were unbound,  brought back upon the scaffold and informed that his Majesty had spared  us our lives”\n",
      "“Dead House”\n",
      "“Vremya”\n",
      "“The Epoch”\n",
      "“gave the hapless man the funeral of a  king”\n",
      "“He was one of ourselves, a man of our blood and  our bone, but one who has suffered and has seen so much more deeply than  we have his insight impresses us as wisdom... that wisdom of the heart  which we seek that we may learn from it how to live. All his other  gifts came to him from nature this he won for himself and through it he  became great”\n",
      "“I want to attempt a thing _like that_ and am frightened by these  trifles”\n"
     ]
    }
   ],
   "source": [
    "import re\n",
    "#print(len(source), type(source))\n",
    "list_txt = keep_quoted(source)\n",
    "lst = list_txt[0:10]\n",
    "for l in lst:\n",
    "    l = replace_last(l, '.', '')\n",
    "    l = replace_last(l, ',', '')\n",
    "    print(l)"
   ]
  },
  {
   "cell_type": "code",
   "execution_count": 110,
   "metadata": {},
   "outputs": [],
   "source": [
    "words = no_punctuation(source, ';,.!:*#\\[\\]')\n",
    "#print(words)"
   ]
  },
  {
   "cell_type": "code",
   "execution_count": 72,
   "metadata": {},
   "outputs": [
    {
     "name": "stdout",
     "output_type": "stream",
     "text": [
      "The Projec\n"
     ]
    }
   ],
   "source": [
    "print(source[0:10])"
   ]
  },
  {
   "cell_type": "code",
   "execution_count": 75,
   "metadata": {},
   "outputs": [],
   "source": [
    "#print(words[0:300])"
   ]
  },
  {
   "cell_type": "code",
   "execution_count": null,
   "metadata": {},
   "outputs": [],
   "source": []
  }
 ],
 "metadata": {
  "kernelspec": {
   "display_name": "Python 3",
   "language": "python",
   "name": "python3"
  },
  "language_info": {
   "codemirror_mode": {
    "name": "ipython",
    "version": 3
   },
   "file_extension": ".py",
   "mimetype": "text/x-python",
   "name": "python",
   "nbconvert_exporter": "python",
   "pygments_lexer": "ipython3",
   "version": "3.8.7"
  }
 },
 "nbformat": 4,
 "nbformat_minor": 4
}
